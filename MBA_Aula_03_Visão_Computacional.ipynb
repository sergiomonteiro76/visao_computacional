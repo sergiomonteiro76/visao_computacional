{
  "nbformat": 4,
  "nbformat_minor": 0,
  "metadata": {
    "colab": {
      "provenance": [],
      "collapsed_sections": [
        "kCx6dxYvhke6",
        "HHlBXw7PktQR"
      ]
    },
    "kernelspec": {
      "name": "python3",
      "display_name": "Python 3"
    },
    "language_info": {
      "name": "python"
    }
  },
  "cells": [
    {
      "cell_type": "markdown",
      "source": [
        "# **MBA - Aula ao Vivo 03**\n",
        "\n",
        "**Disciplina: Visão Computacional**\n",
        "\n",
        "**prof: Sérgio Assunção Monteiro, DSc**\n"
      ],
      "metadata": {
        "id": "by6b_K16hWSh"
      }
    },
    {
      "cell_type": "markdown",
      "source": [
        "# **Exemplos Simples**"
      ],
      "metadata": {
        "id": "G34_bq0e0tRw"
      }
    },
    {
      "cell_type": "code",
      "source": [
        "import numpy as np\n",
        "\n",
        "vetor = np.array([1, 2, 3, 4, 5])\n",
        "print(vetor)"
      ],
      "metadata": {
        "colab": {
          "base_uri": "https://localhost:8080/"
        },
        "id": "1Pzh2zSC0yVu",
        "outputId": "9d69107b-bf26-46f8-827d-ba846541c50d"
      },
      "execution_count": null,
      "outputs": [
        {
          "output_type": "stream",
          "name": "stdout",
          "text": [
            "[1 2 3 4 5]\n"
          ]
        }
      ]
    },
    {
      "cell_type": "code",
      "source": [
        "vetor = np.pad(vetor,(3, 2), 'constant', constant_values=(77, 99))\n",
        "  \n",
        "print(vetor)"
      ],
      "metadata": {
        "colab": {
          "base_uri": "https://localhost:8080/"
        },
        "id": "qq__RMLJ02Cf",
        "outputId": "fd17727c-85b1-4799-c550-cb828861b57f"
      },
      "execution_count": null,
      "outputs": [
        {
          "output_type": "stream",
          "name": "stdout",
          "text": [
            "[77 77 77  1  2  3  4  5 99 99]\n"
          ]
        }
      ]
    },
    {
      "cell_type": "code",
      "source": [
        "vetor = np.pad(vetor,(3, 2), 'constant')\n",
        "  \n",
        "print(vetor)"
      ],
      "metadata": {
        "colab": {
          "base_uri": "https://localhost:8080/"
        },
        "id": "i0OXsEwZ1rOH",
        "outputId": "607bf21e-1f61-403a-a7ef-e744ad3e00d7"
      },
      "execution_count": null,
      "outputs": [
        {
          "output_type": "stream",
          "name": "stdout",
          "text": [
            "[ 0  0  0 77 77 77  1  2  3  4  5 99 99  0  0]\n"
          ]
        }
      ]
    },
    {
      "cell_type": "code",
      "source": [
        "import numpy as np\n",
        "  \n",
        "vetor_orig = [[1, 2],[3, 4]] \n",
        "vetor_pad = np.pad(vetor_orig, ((0,0),(1,1)), 'constant')\n",
        "print(vetor_pad)"
      ],
      "metadata": {
        "colab": {
          "base_uri": "https://localhost:8080/"
        },
        "id": "A0aDKxBK16F2",
        "outputId": "ca264ddd-92a6-47ce-cd46-dfc436300f21"
      },
      "execution_count": null,
      "outputs": [
        {
          "output_type": "stream",
          "name": "stdout",
          "text": [
            "[[0 1 2 0]\n",
            " [0 3 4 0]]\n"
          ]
        }
      ]
    },
    {
      "cell_type": "markdown",
      "source": [
        "# **Redes CNN**"
      ],
      "metadata": {
        "id": "kCx6dxYvhke6"
      }
    },
    {
      "cell_type": "markdown",
      "source": [
        "**Carregar os Dados**"
      ],
      "metadata": {
        "id": "W25kNogChfob"
      }
    },
    {
      "cell_type": "code",
      "execution_count": null,
      "metadata": {
        "colab": {
          "base_uri": "https://localhost:8080/"
        },
        "id": "wTIFTm4CT0Lg",
        "outputId": "632677c2-812b-4d71-ec21-56c8e676bbdd"
      },
      "outputs": [
        {
          "output_type": "stream",
          "name": "stdout",
          "text": [
            "Downloading data from https://storage.googleapis.com/tensorflow/tf-keras-datasets/mnist.npz\n",
            "11493376/11490434 [==============================] - 0s 0us/step\n",
            "11501568/11490434 [==============================] - 0s 0us/step\n"
          ]
        }
      ],
      "source": [
        "import tensorflow as tf\n",
        "\n",
        "(x_treino, y_treino), (x_teste, y_teste) = tf.keras.datasets.mnist.load_data()\n"
      ]
    },
    {
      "cell_type": "markdown",
      "source": [
        "**Visualizar Dados**"
      ],
      "metadata": {
        "id": "3L5QrVslhqnR"
      }
    },
    {
      "cell_type": "code",
      "source": [
        "import matplotlib.pyplot as plt\n",
        "\n",
        "for i in range(5):\n",
        "  plt.subplot(1, 5, i+1)\n",
        "  plt.tight_layout()\n",
        "  plt.imshow(x_treino[i].reshape(28, 28), cmap='gray')\n",
        "  plt.title('Rótulo:{}'.format(y_treino[i]))\n",
        "  plt.xticks([])\n",
        "  plt.yticks([])\n",
        "plt.show()"
      ],
      "metadata": {
        "colab": {
          "base_uri": "https://localhost:8080/",
          "height": 104
        },
        "id": "MaAV5VM4hrdd",
        "outputId": "9e8ed6ef-eac8-4a21-acb0-e3f3979e132d"
      },
      "execution_count": null,
      "outputs": [
        {
          "output_type": "display_data",
          "data": {
            "text/plain": [
              "<Figure size 432x288 with 5 Axes>"
            ],
            "image/png": "[encoded data removed]"
          },
          "metadata": {}
        }
      ]
    },
    {
      "cell_type": "markdown",
      "source": [
        "**Separação dos conjuntos**"
      ],
      "metadata": {
        "id": "CUn8ZAeZhwoL"
      }
    },
    {
      "cell_type": "code",
      "source": [
        "import numpy as np\n",
        "quantidade_dados_treino = 55000\n",
        "\n",
        "x_validacao = x_treino[quantidade_dados_treino:, ..., np.newaxis]\n",
        "y_validacao = y_treino[quantidade_dados_treino:]\n",
        "\n",
        "x_treino = x_treino[:quantidade_dados_treino, ..., np.newaxis]\n",
        "y_treino = y_treino[:quantidade_dados_treino]\n",
        "\n",
        "x_teste =  x_teste[..., np.newaxis]\n",
        "\n",
        "print(\"Formato da Imagem: {}\".format(x_treino[0].shape), end = '\\n\\n')\n",
        "print(\"Conjunto de Treinamento: {} registros\".format(len(x_treino)))\n",
        "print(\"Conjunto de Validação:   {} registros\".format(len(x_validacao)))\n",
        "print(\"Conjunto de Testes:      {} registros\".format(len(x_teste)))"
      ],
      "metadata": {
        "colab": {
          "base_uri": "https://localhost:8080/"
        },
        "id": "aGoUJzE7hzsr",
        "outputId": "78049f2f-84c5-4d0f-b761-2d9eb0c8a430"
      },
      "execution_count": null,
      "outputs": [
        {
          "output_type": "stream",
          "name": "stdout",
          "text": [
            "Formato da Imagem: (32, 32, 1, 1, 1)\n",
            "\n",
            "Conjunto de Treinamento: 55000 registros\n",
            "Conjunto de Validação:   0 registros\n",
            "Conjunto de Testes:      10000 registros\n"
          ]
        }
      ]
    },
    {
      "cell_type": "markdown",
      "source": [
        "**A camada de entrada consiste em imagens dimensionais (32 x 32 x 1). Como as imagens têm 28 x 28, elas são preenchidas com 0s para torná-las 32 x 32.**"
      ],
      "metadata": {
        "id": "KajUDztxh3a6"
      }
    },
    {
      "cell_type": "code",
      "source": [
        "x_treino = np.pad(x_treino, ((0,0),(2,2),(2,2),(0,0)), 'constant')\n",
        "x_validacao = np.pad(x_validacao, ((0,0),(2,2),(2,2),(0,0)), 'constant')\n",
        "x_teste = np.pad(x_teste, ((0,0),(2,2),(2,2),(0,0)), 'constant')\n",
        "\n",
        "print(\"Informações sobre as mudanças dos dados de entrada: \", end='\\n\\n')\n",
        "print(\"Conjunto de treinamento: {}\".format(x_treino.shape))\n",
        "print(\"Conjunto de Validação: {}\".format(x_validacao.shape))\n",
        "print(\"Conjunto de Testes: {}\".format(x_teste.shape))"
      ],
      "metadata": {
        "colab": {
          "base_uri": "https://localhost:8080/"
        },
        "id": "02NhbXkCh9z7",
        "outputId": "ef0f6eee-8af0-4a94-ab46-dec394ae4203"
      },
      "execution_count": null,
      "outputs": [
        {
          "output_type": "stream",
          "name": "stdout",
          "text": [
            "Informações sobre as mudanças dos dados de entrada: \n",
            "\n",
            "Conjunto de treinamento: (55000, 32, 32, 1)\n",
            "Conjunto de Validação: (5000, 32, 32, 1)\n",
            "Conjunto de Testes: (10000, 32, 32, 1)\n"
          ]
        }
      ]
    },
    {
      "cell_type": "markdown",
      "source": [
        "**Normalização dos dados**"
      ],
      "metadata": {
        "id": "1tAaKRsgiBWp"
      }
    },
    {
      "cell_type": "code",
      "source": [
        "normalizar_dados = lambda t: t/255\n",
        "x_treino = normalizar_dados(x_treino)\n",
        "x_validacao = normalizar_dados(x_validacao)\n",
        "x_teste = normalizar_dados(x_teste)\n"
      ],
      "metadata": {
        "id": "3q9trFWJiEmS"
      },
      "execution_count": null,
      "outputs": []
    },
    {
      "cell_type": "markdown",
      "source": [
        "**Arquitetura LeNet**"
      ],
      "metadata": {
        "id": "NluZggSsiHvK"
      }
    },
    {
      "cell_type": "code",
      "source": [
        "from tensorflow.keras import Sequential\n",
        "from tensorflow.keras.layers import Conv2D, AveragePooling2D, Flatten, Dense\n",
        "\n",
        "def arquitetura_LeNet_5(funcao_ativacao):\n",
        "    modelo = Sequential()\n",
        "\n",
        "    # C1: (None,32,32,1) -> (None,28,28,6).\n",
        "    modelo.add(Conv2D(6, kernel_size=(5, 5), \n",
        "                      strides=(1, 1), \n",
        "                      activation=funcao_ativacao, \n",
        "                      input_shape=(32,32,1), \n",
        "                      padding='valid'))\n",
        "\n",
        "    # P1: (None,28,28,6) -> (None,14,14,6).\n",
        "    modelo.add(AveragePooling2D(pool_size=(2, 2), \n",
        "                                strides=(2, 2), \n",
        "                                padding='valid'))\n",
        "\n",
        "    # C2: (None,14,14,6) -> (None,10,10,16).\n",
        "    modelo.add(Conv2D(16, kernel_size=(5, 5), \n",
        "                      strides=(1, 1), \n",
        "                      activation=funcao_ativacao, \n",
        "                      padding='valid'))\n",
        "\n",
        "    # P2: (None,10,10,16) -> (None,5,5,16).\n",
        "    modelo.add(AveragePooling2D(pool_size=(2, 2), \n",
        "                                strides=(2, 2), \n",
        "                                padding='valid'))\n",
        "\n",
        "\n",
        "    modelo.add(Conv2D(120, kernel_size=(1, 1), \n",
        "                      strides=(1, 1), \n",
        "                      activation='tanh', \n",
        "                      padding='valid'))\n",
        "\n",
        "    # Flatten: (None,5,5,16) -> (None, 120).\n",
        "    modelo.add(Flatten())\n",
        "\n",
        "    # FC2: (None,120) -> (None,84).\n",
        "    modelo.add(Dense(84, activation=funcao_ativacao))\n",
        "\n",
        "    # FC3: (None,84) -> (None,10).\n",
        "    modelo.add(Dense(10, activation='softmax'))\n",
        "    \n",
        "    return modelo"
      ],
      "metadata": {
        "id": "IAiE_aUUiMfx"
      },
      "execution_count": null,
      "outputs": []
    },
    {
      "cell_type": "markdown",
      "source": [
        "**Visualizar a Arquitetura do Modelo**"
      ],
      "metadata": {
        "id": "72s5v16qiPxb"
      }
    },
    {
      "cell_type": "code",
      "source": [
        "modelo = arquitetura_LeNet_5('relu')\n",
        "modelo.summary()"
      ],
      "metadata": {
        "colab": {
          "base_uri": "https://localhost:8080/"
        },
        "id": "zap2kbPQiU0M",
        "outputId": "29b111c9-dcbb-4a33-f949-47d42b5d6efc"
      },
      "execution_count": null,
      "outputs": [
        {
          "output_type": "stream",
          "name": "stdout",
          "text": [
            "Model: \"sequential\"\n",
            "_________________________________________________________________\n",
            " Layer (type)                Output Shape              Param #   \n",
            "=================================================================\n",
            " conv2d (Conv2D)             (None, 28, 28, 6)         156       \n",
            "                                                                 \n",
            " average_pooling2d (AverageP  (None, 14, 14, 6)        0         \n",
            " ooling2D)                                                       \n",
            "                                                                 \n",
            " conv2d_1 (Conv2D)           (None, 10, 10, 16)        2416      \n",
            "                                                                 \n",
            " average_pooling2d_1 (Averag  (None, 5, 5, 16)         0         \n",
            " ePooling2D)                                                     \n",
            "                                                                 \n",
            " conv2d_2 (Conv2D)           (None, 5, 5, 120)         2040      \n",
            "                                                                 \n",
            " flatten (Flatten)           (None, 3000)              0         \n",
            "                                                                 \n",
            " dense (Dense)               (None, 84)                252084    \n",
            "                                                                 \n",
            " dense_1 (Dense)             (None, 10)                850       \n",
            "                                                                 \n",
            "=================================================================\n",
            "Total params: 257,546\n",
            "Trainable params: 257,546\n",
            "Non-trainable params: 0\n",
            "_________________________________________________________________\n"
          ]
        }
      ]
    },
    {
      "cell_type": "markdown",
      "source": [
        "**Treinamento do modelo**"
      ],
      "metadata": {
        "id": "2clkQ0mAiYTD"
      }
    },
    {
      "cell_type": "code",
      "source": [
        "from tensorflow.keras.losses import CategoricalCrossentropy\n",
        "\n",
        "\n",
        "modelo.compile(loss='sparse_categorical_crossentropy', \n",
        "                optimizer='sgd', metrics=['accuracy']) \n",
        "\n",
        "quantidade_de_epocas = 10\n",
        "historico_treinamento = modelo.fit(x_treino, y_treino, \n",
        "                                   validation_data=(x_validacao, y_validacao),\n",
        "                                   batch_size=64, \n",
        "                                   epochs=quantidade_de_epocas)\n",
        "# Salva o modelo\n",
        "modelo.save(\"modelo_lenet5\")"
      ],
      "metadata": {
        "colab": {
          "base_uri": "https://localhost:8080/"
        },
        "id": "EC5hAL_piZQ7",
        "outputId": "fa0cecb4-31fe-4412-d20d-3f6048cdcdee"
      },
      "execution_count": null,
      "outputs": [
        {
          "output_type": "stream",
          "name": "stdout",
          "text": [
            "Epoch 1/10\n",
            "860/860 [==============================] - 37s 42ms/step - loss: 0.8790 - accuracy: 0.7541 - val_loss: 0.2600 - val_accuracy: 0.9238\n",
            "Epoch 2/10\n",
            "860/860 [==============================] - 28s 33ms/step - loss: 0.2799 - accuracy: 0.9135 - val_loss: 0.1768 - val_accuracy: 0.9502\n",
            "Epoch 3/10\n",
            "860/860 [==============================] - 29s 33ms/step - loss: 0.2107 - accuracy: 0.9356 - val_loss: 0.1550 - val_accuracy: 0.9540\n",
            "Epoch 4/10\n",
            "860/860 [==============================] - 28s 33ms/step - loss: 0.1706 - accuracy: 0.9482 - val_loss: 0.1431 - val_accuracy: 0.9594\n",
            "Epoch 5/10\n",
            "860/860 [==============================] - 28s 33ms/step - loss: 0.1445 - accuracy: 0.9556 - val_loss: 0.1148 - val_accuracy: 0.9680\n",
            "Epoch 6/10\n",
            "860/860 [==============================] - 29s 33ms/step - loss: 0.1259 - accuracy: 0.9609 - val_loss: 0.0938 - val_accuracy: 0.9726\n",
            "Epoch 7/10\n",
            "860/860 [==============================] - 30s 35ms/step - loss: 0.1109 - accuracy: 0.9655 - val_loss: 0.0953 - val_accuracy: 0.9716\n",
            "Epoch 8/10\n",
            "860/860 [==============================] - 29s 34ms/step - loss: 0.0990 - accuracy: 0.9695 - val_loss: 0.0808 - val_accuracy: 0.9790\n",
            "Epoch 9/10\n",
            "860/860 [==============================] - 29s 33ms/step - loss: 0.0903 - accuracy: 0.9721 - val_loss: 0.0729 - val_accuracy: 0.9800\n",
            "Epoch 10/10\n",
            "860/860 [==============================] - 28s 33ms/step - loss: 0.0824 - accuracy: 0.9747 - val_loss: 0.0717 - val_accuracy: 0.9796\n",
            "INFO:tensorflow:Assets written to: modelo_lenet5/assets\n"
          ]
        }
      ]
    },
    {
      "cell_type": "markdown",
      "source": [
        "**Avaliar o Modelo**"
      ],
      "metadata": {
        "id": "ziG1fwt5ietB"
      }
    },
    {
      "cell_type": "code",
      "source": [
        "loss, accuracy = modelo.evaluate(x_teste, y_teste,batch_size=64);\n",
        "print(\"loss:{}\".format(loss))\n",
        "print(\"accuracy:{}\".format(accuracy))"
      ],
      "metadata": {
        "colab": {
          "base_uri": "https://localhost:8080/"
        },
        "id": "2QfZQ-uTihoh",
        "outputId": "0dec304c-f04c-4f0a-e894-e7fef58f2234"
      },
      "execution_count": null,
      "outputs": [
        {
          "output_type": "stream",
          "name": "stdout",
          "text": [
            "157/157 [==============================] - 2s 13ms/step - loss: 0.0774 - accuracy: 0.9755\n",
            "loss:0.07739216834306717\n",
            "accuracy:0.9754999876022339\n"
          ]
        }
      ]
    },
    {
      "cell_type": "markdown",
      "source": [
        "**Predição de dados**"
      ],
      "metadata": {
        "id": "oVnFT24pikna"
      }
    },
    {
      "cell_type": "code",
      "source": [
        "indice_imagem = 1976\n",
        "\n",
        "predicao = modelo.predict(x_teste[indice_imagem].reshape(1,32,32,1))\n",
        "\n",
        "print(\"Predição: {}\".format(predicao[0]), end = '\\n\\n')\n",
        "\n",
        "print(\"Nosso modelo CNN prevê que o dígito na imagem é:\", predicao.argmax())\n",
        "plt.imshow(x_teste[indice_imagem].reshape(32,32), cmap='Greys')\n"
      ],
      "metadata": {
        "colab": {
          "base_uri": "https://localhost:8080/",
          "height": 370
        },
        "id": "twP6NTC7ioF6",
        "outputId": "de589761-a232-4951-fb02-007c70313aa3"
      },
      "execution_count": null,
      "outputs": [
        {
          "output_type": "stream",
          "name": "stdout",
          "text": [
            "Predição: [4.53098110e-05 6.80970086e-04 1.32911824e-04 9.70586002e-01\n",
            " 6.97281308e-08 2.69385930e-02 1.03991695e-08 1.11929537e-03\n",
            " 1.19984594e-04 3.76867130e-04]\n",
            "\n",
            "Nosso modelo CNN prevê que o dígito na imagem é: 3\n"
          ]
        },
        {
          "output_type": "execute_result",
          "data": {
            "text/plain": [
              "<matplotlib.image.AxesImage at 0x7f555563c290>"
            ]
          },
          "metadata": {},
          "execution_count": 13
        },
        {
          "output_type": "display_data",
          "data": {
            "text/plain": [
              "<Figure size 432x288 with 1 Axes>"
            ],
            "image/png": "[encoded data removed]"
          },
          "metadata": {
            "needs_background": "light"
          }
        }
      ]
    },
    {
      "cell_type": "markdown",
      "source": [
        "**Imprimir Treinamento**"
      ],
      "metadata": {
        "id": "sVvV-bbriq-5"
      }
    },
    {
      "cell_type": "code",
      "source": [
        "plt.title('Cálculo do Erro ao longo do treinamento')\n",
        "plt.ylabel('Erro')\n",
        "plt.xlabel('Época')\n",
        "\n",
        "plt.plot(historico_treinamento.history['loss'])\n",
        "plt.plot(historico_treinamento.history['val_loss'])\n",
        "plt.legend(['loss (treinamento)', 'val_loss (validação)'], loc='upper right')\n",
        "plt.show()"
      ],
      "metadata": {
        "colab": {
          "base_uri": "https://localhost:8080/",
          "height": 297
        },
        "id": "P9-hYZ0bitwb",
        "outputId": "46ff2c48-bd72-408d-c1ba-92dee2bd41c1"
      },
      "execution_count": null,
      "outputs": [
        {
          "output_type": "display_data",
          "data": {
            "text/plain": [
              "<Figure size 432x288 with 1 Axes>"
            ],
            "image/png": "[encoded data removed]"
          },
          "metadata": {
            "needs_background": "light"
          }
        }
      ]
    },
    {
      "cell_type": "markdown",
      "source": [
        "# **Visão Computacional YOLO**"
      ],
      "metadata": {
        "id": "HHlBXw7PktQR"
      }
    },
    {
      "cell_type": "markdown",
      "source": [
        "**Rodar no Desktop**"
      ],
      "metadata": {
        "id": "BpD35E4npXgu"
      }
    },
    {
      "cell_type": "code",
      "source": [
        "import cv2"
      ],
      "metadata": {
        "id": "dlrhKQnYmxR_"
      },
      "execution_count": null,
      "outputs": []
    },
    {
      "cell_type": "code",
      "source": [
        "def ler_imagem(nome_arquivo):\n",
        "    imagem = cv2.imread(\"Imagens/\"+str(nome_arquivo))\n",
        "    return imagem"
      ],
      "metadata": {
        "id": "v0by8_jPpfsN"
      },
      "execution_count": null,
      "outputs": []
    },
    {
      "cell_type": "code",
      "source": [
        "def carregar_classes():\n",
        "    with open('yolov/coco.names', 'r') as f:\n",
        "        classes = f.read().splitlines()\n",
        "    return classes"
      ],
      "metadata": {
        "id": "UU5VJEjYpiS0"
      },
      "execution_count": null,
      "outputs": []
    },
    {
      "cell_type": "code",
      "source": [
        "def carregar_dnn():\n",
        "    rede = cv2.dnn.readNetFromDarknet('yolov/yolov4.cfg',\n",
        "                                      'yolov/yolov4.weights')\n",
        "    modelo = cv2.dnn_DetectionModel(rede)\n",
        "    modelo.setInputParams(scale=1 / 255,\n",
        "                          size=(416, 416),\n",
        "                          swapRB=True)\n",
        "    return modelo"
      ],
      "metadata": {
        "id": "bPVLS3dDpoPL"
      },
      "execution_count": null,
      "outputs": []
    },
    {
      "cell_type": "code",
      "source": [
        "def reconhecer_objetos(modelo, classes, imagem):\n",
        "    classIds, scores, boxes = modelo.detect(imagem,\n",
        "                                            confThreshold=0.55,\n",
        "                                            nmsThreshold=0.45)\n",
        "    for (classId, score, box) in zip(classIds, scores, boxes):\n",
        "        cv2.rectangle(imagem,\n",
        "                      (box[0], box[1]),\n",
        "                      (box[0] + box[2], box[1] + box[3]),\n",
        "                      color=(0, 255, 0), thickness=2)\n",
        "        texto = '%s: %.2f' % (classes[classId], score)\n",
        "        cv2.putText(imagem, texto,\n",
        "                    (box[0], box[1] - 5),\n",
        "                    cv2.FONT_HERSHEY_SIMPLEX, 1,\n",
        "                    color=(0, 255, 0), thickness=2)\n",
        "    return imagem"
      ],
      "metadata": {
        "id": "XbcjUufsptrM"
      },
      "execution_count": null,
      "outputs": []
    },
    {
      "cell_type": "code",
      "source": [
        "def processar_imagem(nome_arquivo):\n",
        "    imagem = ler_imagem(nome_arquivo)\n",
        "    classes = carregar_classes()\n",
        "    modelo = carregar_dnn()\n",
        "    imagem = reconhecer_objetos(modelo, classes, imagem)\n",
        "    cv2.imshow('Imagem', imagem)\n",
        "    cv2.waitKey(0)\n",
        "    cv2.destroyAllWindows()"
      ],
      "metadata": {
        "id": "YTT3iZiupxU1"
      },
      "execution_count": null,
      "outputs": []
    },
    {
      "cell_type": "code",
      "source": [
        "if __name__ == '__main__':\n",
        "    nome_arquivo = \"foto_01.jpg\"\n",
        "    processar_imagem(nome_arquivo)"
      ],
      "metadata": {
        "id": "T8EumYgFpy7T"
      },
      "execution_count": null,
      "outputs": []
    }
  ]
}